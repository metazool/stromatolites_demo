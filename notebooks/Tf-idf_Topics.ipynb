{
 "cells": [
  {
   "cell_type": "code",
   "execution_count": 1,
   "metadata": {},
   "outputs": [],
   "source": [
    "import pandas as pd\n",
    "from sklearn.feature_extraction.text import TfidfVectorizer\n",
    "from sklearn.decomposition import NMF"
   ]
  },
  {
   "cell_type": "code",
   "execution_count": 2,
   "metadata": {},
   "outputs": [],
   "source": [
    "data = pd.read_csv('../output/results.csv')"
   ]
  },
  {
   "cell_type": "markdown",
   "metadata": {},
   "source": [
    "Term Frequency-Inverse Document Frequency for all the extracted phrases (one reason it would be good to have fuller text). Then cluster the terms by topic, based on [this worked example from scikit-learn](https://scikit-learn.org/stable/auto_examples/applications/plot_topics_extraction_with_nmf_lda.html#sphx-glr-auto-examples-applications-plot-topics-extraction-with-nmf-lda-py) "
   ]
  },
  {
   "cell_type": "code",
   "execution_count": 3,
   "metadata": {},
   "outputs": [],
   "source": [
    "phrases = list(data['phrase'])\n",
    "vectorizer = TfidfVectorizer(stop_words='english')\n",
    "tfidf = vectorizer.fit_transform(phrases)"
   ]
  },
  {
   "cell_type": "code",
   "execution_count": 4,
   "metadata": {},
   "outputs": [],
   "source": [
    "n_components = 10\n",
    "n_top_words = 20\n",
    "nmf = NMF(n_components=n_components, random_state=1,\n",
    "          alpha=.1, l1_ratio=.5).fit(tfidf)"
   ]
  },
  {
   "cell_type": "code",
   "execution_count": 5,
   "metadata": {},
   "outputs": [],
   "source": [
    "def print_top_words(model, feature_names, n_top_words):\n",
    "    for topic_idx, topic in enumerate(model.components_):\n",
    "        terms = \" \".join([feature_names[i]\n",
    "                             for i in topic.argsort()[:-n_top_words - 1:-1]])\n",
    "        print(''.join([terms, '\\n']))"
   ]
  },
  {
   "cell_type": "code",
   "execution_count": 6,
   "metadata": {},
   "outputs": [
    {
     "name": "stdout",
     "output_type": "stream",
     "text": [
      "rrb lrb al et fig stromatolite facies thrombolite formation reef 10 data microbial carbonate organic 2000 2007 section described 2005\n",
      "\n",
      "terminal nama namibia metazoans calcified reefs thrombolite proterozoic group stromatolite watters grotzinger knoll 2000 digital paleobiology 334 characterization 359 reef\n",
      "\n",
      "controls case neoproterozoic nama namibia preservation siliciclastic study sedimentary deposits mats upper group microbial formation noffke knoll grotzinger 2002 palaios\n",
      "\n",
      "stromatolitic dolomite limestone member facies formation unit shale carbonate upper thrombolitic consists beds laminated bedded sandstone dolostone lower fig limestones\n",
      "\n",
      "fortescue craton element geochemistry inferred pilbara northern trace setting carbonates non depositional marine group stromatolitic kranendonk bolhar van 2007 shallow\n",
      "\n",
      "pyrite framboids redox framboidal shale hetang formation sensitive palaeoceanographic elements china nodules evidence trace biota occurrence sponge cambrian black organic\n",
      "\n",
      "africa south ga moodies earth siliciclastic mats group archean tidal microbial window life mozaan early oldest new earliest deposits environment\n",
      "\n",
      "stromatolite formation stromatolites proterozoic gaoyuzhuang china ma riphean precambrian sinian hebei succession microfloras late carbonate mesoproterozoic early form springs bitter\n",
      "\n",
      "microbial mat structures mats proterozoic sonia india sandstones rajasthan examples belt montana supergroup sandstone possible indicators mid shales ediacaran implications\n",
      "\n",
      "strelley pool australia chert block western pilbara restricted strata sedimentation water shallow evaporitic early archean lowe 1983 stromatolitic 283 239\n",
      "\n"
     ]
    }
   ],
   "source": [
    "tfidf_feature_names = vectorizer.get_feature_names()\n",
    "print_top_words(nmf, tfidf_feature_names, n_top_words)"
   ]
  },
  {
   "cell_type": "code",
   "execution_count": null,
   "metadata": {},
   "outputs": [],
   "source": []
  }
 ],
 "metadata": {
  "kernelspec": {
   "display_name": "Python 3",
   "language": "python",
   "name": "python3"
  },
  "language_info": {
   "codemirror_mode": {
    "name": "ipython",
    "version": 3
   },
   "file_extension": ".py",
   "mimetype": "text/x-python",
   "name": "python",
   "nbconvert_exporter": "python",
   "pygments_lexer": "ipython3",
   "version": "3.7.3"
  }
 },
 "nbformat": 4,
 "nbformat_minor": 2
}
