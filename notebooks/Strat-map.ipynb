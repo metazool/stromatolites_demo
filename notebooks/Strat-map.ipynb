{
 "cells": [
  {
   "cell_type": "code",
   "execution_count": 1,
   "metadata": {},
   "outputs": [],
   "source": [
    "import os\n",
    "import json \n",
    "\n",
    "import pandas as pd\n",
    "import requests"
   ]
  },
  {
   "cell_type": "code",
   "execution_count": 2,
   "metadata": {},
   "outputs": [],
   "source": [
    "data = pd.read_csv('../output/results.csv')"
   ]
  },
  {
   "cell_type": "markdown",
   "metadata": {},
   "source": [
    "Some entries have more than one `strat_name_id` separated by a tilde"
   ]
  },
  {
   "cell_type": "code",
   "execution_count": 3,
   "metadata": {},
   "outputs": [
    {
     "name": "stdout",
     "output_type": "stream",
     "text": [
      "Seen 1558 distinct stratigraphic names\n"
     ]
    }
   ],
   "source": [
    "strat_ids = {}\n",
    "\n",
    "for strat_name_id in list(data['strat_name_id']):\n",
    "    ids = strat_name_id.split('~')\n",
    "    for id in ids:\n",
    "        strat = strat_ids.get(id, {'occurrence': 0})\n",
    "        strat['occurrence'] += 1\n",
    "        strat_ids[id] = strat\n",
    "        \n",
    "print(\"Seen {0} distinct stratigraphic names\".format(len(strat_ids)))"
   ]
  },
  {
   "cell_type": "markdown",
   "metadata": {},
   "source": [
    "Collect the associated geodata for the Macrostrat units from the API, checks for the presence of the file first (it is included in the repository).  "
   ]
  },
  {
   "cell_type": "code",
   "execution_count": 4,
   "metadata": {},
   "outputs": [],
   "source": [
    "# https://macrostrat.org/api/units?strat_name_id=8011&format=geojson\n",
    "\n",
    "def macrostrat_geo():\n",
    "    \"\"\"If necessary collect all the geojson associated with \n",
    "    Macrostrat strat_name_id. But the JSON data should be cached with the notebook\"\"\"\n",
    "    MACROSTRAT = \"https://macrostrat.org/api/units?strat_name_id={0}&format=geojson\"\n",
    "    \n",
    "    for id in strat_ids:\n",
    "        response = requests.get(MACROSTRAT.format(id))\n",
    "        data = {}\n",
    "        try:\n",
    "            data = response.json()['success']\n",
    "        except (KeyError, requests.exceptions.HTTPError):\n",
    "            print(id)\n",
    "            pass        \n",
    "        strat_ids[id]['features'] = data['data']['features']\n",
    "    \n",
    "\n",
    "FEATURE_DATA = '../output/macrostrat_features.json'\n",
    "if not os.path.isfile(FEATURE_DATA):\n",
    "    macrostrat_geo()\n",
    "    # strat_name_id contains too many results to be meaningful\n",
    "    del strat_ids['0']\n",
    "    with open('FEATURE_DATA', 'w') as output:\n",
    "        output.write(json.dumps(strat_ids))\n",
    "else:\n",
    "    strat_ids = json.load(open(FEATURE_DATA))"
   ]
  },
  {
   "cell_type": "markdown",
   "metadata": {},
   "source": [
    "Use ipyleaflet to do a quick web map visualisation; installation notes here.\n",
    "https://ipyleaflet.readthedocs.io/en/latest/installation.html#using-pip \n",
    "\n",
    "We see a very limited geographic coverage for our result set. What's the cause? \n",
    " * A side-effect of our sub-set of publications? Or studies overfocused on particular areas? We should do the complete DeepDive.\n",
    " * Limits in the stratigraphic units available via Macrostrat? \n",
    " * Limits in the ability of GeoDeepDive to georeference marine features?\n",
    " "
   ]
  },
  {
   "cell_type": "code",
   "execution_count": 11,
   "metadata": {},
   "outputs": [
    {
     "data": {
      "application/vnd.jupyter.widget-view+json": {
       "model_id": "3810360497b34866b1a7d3b9cd436a43",
       "version_major": 2,
       "version_minor": 0
      },
      "text/plain": [
       "Map(basemap={'url': 'https://{s}.tile.openstreetmap.org/{z}/{x}/{y}.png', 'max_zoom': 19, 'attribution': 'Map …"
      ]
     },
     "metadata": {},
     "output_type": "display_data"
    }
   ],
   "source": [
    "from ipyleaflet import Map, Marker, GeoJSON\n",
    "\n",
    "center = (52.204793, 360.121558)\n",
    "m = Map(center=center, zoom=0)\n",
    "\n",
    "for id, data in strat_ids.items():\n",
    "    geojson = GeoJSON(data=data, style = {'color': 'green', 'opacity':1, 'weight':1.9, 'dashArray':'9', 'fillOpacity':0.1})\n",
    "    m.add_layer(geojson);\n",
    "\n",
    "display(m)\n",
    "    "
   ]
  }
 ],
 "metadata": {
  "kernelspec": {
   "display_name": "Python 3",
   "language": "python",
   "name": "python3"
  },
  "language_info": {
   "codemirror_mode": {
    "name": "ipython",
    "version": 3
   },
   "file_extension": ".py",
   "mimetype": "text/x-python",
   "name": "python",
   "nbconvert_exporter": "python",
   "pygments_lexer": "ipython3",
   "version": "3.7.3"
  }
 },
 "nbformat": 4,
 "nbformat_minor": 2
}
